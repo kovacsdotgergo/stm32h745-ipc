{
 "cells": [
  {
   "cell_type": "code",
   "execution_count": 13,
   "metadata": {},
   "outputs": [
    {
     "name": "stdout",
     "output_type": "stream",
     "text": [
      "The unconstrained solution is optimal.\n",
      "The unconstrained solution is optimal.\n",
      "The unconstrained solution is optimal.\n",
      "The unconstrained solution is optimal.\n",
      "The unconstrained solution is optimal.\n",
      "The unconstrained solution is optimal.\n",
      "The unconstrained solution is optimal.\n",
      "The unconstrained solution is optimal.\n",
      "The unconstrained solution is optimal.\n",
      "The unconstrained solution is optimal.\n",
      "The unconstrained solution is optimal.\n",
      "The unconstrained solution is optimal.\n",
      "The unconstrained solution is optimal.\n",
      "The unconstrained solution is optimal.\n",
      "The unconstrained solution is optimal.\n",
      "The unconstrained solution is optimal.\n",
      "The unconstrained solution is optimal.\n",
      "The unconstrained solution is optimal.\n",
      "The unconstrained solution is optimal.\n",
      "The unconstrained solution is optimal.\n",
      "The unconstrained solution is optimal.\n",
      "The unconstrained solution is optimal.\n",
      "The unconstrained solution is optimal.\n",
      "The unconstrained solution is optimal.\n"
     ]
    }
   ],
   "source": [
    "import os\n",
    "from collections import defaultdict\n",
    "\n",
    "import numpy as np\n",
    "import scipy\n",
    "\n",
    "from setup_paths import *\n",
    "import visu_common\n",
    "import measurement\n",
    "\n",
    "meas_type = 'latency'\n",
    "base_dir = 'v1_O3'\n",
    "\n",
    "all_meas_configs = {\n",
    "    'direction': ['s', 'r'],\n",
    "    'clkM7': [60, 120, 240, 480],\n",
    "    'clkM4': [60, 120, 240],\n",
    "    'repeat': [256],\n",
    "    'datasize': ([1]\n",
    "                + [16*x for x in range(1, 17)]\n",
    "                + [512, 1024, 1536]\n",
    "                + [1024*x for x in range(2, 16)] + [16376]),\n",
    "    'mem': ['D1', 'D2', 'D3'],\n",
    "    'cache': ['none', 'i', 'd', 'id'],\n",
    "}\n",
    "\n",
    "config_list = measurement.config_to_config_list(all_meas_configs)\n",
    "meas_configs_list = measurement.group_config_except(config_list, ['datasize', 'clkM7', 'clkM4'])\n",
    "\n",
    "identified_params = defaultdict(lambda: defaultdict(dict))\n",
    "for meas_configs in meas_configs_list:\n",
    "    meas_configs = {k:(v if isinstance(v, list) else [v])\n",
    "                    for k, v in meas_configs.items()}\n",
    "    y, y_config_list = measurement.get_and_calc_meas(meas_configs, meas_type, base_dir)\n",
    "    # all column vectors\n",
    "    sizes = np.asarray([x['datasize'] for x in y_config_list]).reshape(-1, 1)\n",
    "    m7 = np.asarray([x['clkM7'] for x in y_config_list]).reshape(-1, 1)\n",
    "    m4 = np.asarray([x['clkM4'] for x in y_config_list]).reshape(-1, 1)\n",
    "    y = y[0, :] # vector of means\n",
    "    K = np.hstack(\n",
    "        (1/m7*np.ones((len(sizes), 1)), # const part for sending\n",
    "        1/m7*sizes, # size dependent part for sending\n",
    "        1/m4*sizes,\n",
    "        1/m4*np.ones((len(sizes), 1))))\n",
    "\n",
    "    res = scipy.optimize.lsq_linear(K, y, bounds=(0, np.inf))\n",
    "    print(res.message)\n",
    "    # direction under mem in the dict\n",
    "    mem = meas_configs['mem'][0]\n",
    "    cache = meas_configs['cache'][0]\n",
    "    direction = meas_configs['direction'][0]\n",
    "    identified_params[mem][cache][direction] = list(res.x)"
   ]
  },
  {
   "cell_type": "code",
   "execution_count": 16,
   "metadata": {},
   "outputs": [],
   "source": [
    "import json\n",
    "\n",
    "# Writing the result to file\n",
    "filename = 'models_long.json'\n",
    "model_path = os.path.join(MODELS_PATH, base_dir)\n",
    "os.makedirs(model_path, exist_ok=True)\n",
    "with open(os.path.join(model_path, filename), 'w') as file:\n",
    "    json.dump(identified_params, file, indent=4)"
   ]
  },
  {
   "cell_type": "code",
   "execution_count": 14,
   "metadata": {},
   "outputs": [
    {
     "name": "stdout",
     "output_type": "stream",
     "text": [
      "defaultdict(<function <lambda> at 0x000001F54119EC20>, {'D1': defaultdict(<class 'dict'>, {'d': {'r': [1395.1583985521722, 4.32422121090115, 18.810706799610244, 1752.960068497788], 's': [553.9780850793837, 0.006367677150922901, 16.08401851126504, 2213.290381468761]}, 'i': {'r': [1280.6924012633867, 3.443620000297283, 20.247574223287344, 1979.3045390537043], 's': [605.0118355056569, 5.123970769163083, 15.68901360948578, 2269.4293844908057]}, 'id': {'r': [1399.1252112358488, 4.329385154395634, 18.797748597878265, 1218.5940039394884], 's': [546.2727396730173, 0.008815207032876415, 16.078861762440706, 2014.652036643433]}, 'none': {'r': [1573.3040486006948, 3.2773823982188723, 20.68041937038953, 2249.072358575892], 's': [614.5814974605076, 5.159041977722122, 15.898404165327632, 2490.8572368064947]}}), 'D2': defaultdict(<class 'dict'>, {'d': {'r': [1376.4578308465052, 4.746890294171463, 12.762088903970692, 1577.2723379157503], 's': [575.6342176919075, 0.011209417195956917, 14.033855281073617, 2088.640153242695]}, 'i': {'r': [1448.4106999064727, 4.778928286762508, 12.727267562160305, 1601.294450464655], 's': [606.5575318099377, 0.007682746116095984, 14.037933381588179, 2037.8201918347495]}, 'id': {'r': [1396.9474343891693, 4.75648141977655, 12.746843591515574, 1031.9539249299446], 's': [492.7193054505874, 0.019620986559218068, 14.022478155310928, 1954.6764022852442]}, 'none': {'r': [1396.9301529095944, 4.785813167062276, 12.733539015121982, 2111.7658297710955], 's': [691.7967194024296, 0.01590187887786776, 14.035632899985092, 2196.8516396470063]}}), 'D3': defaultdict(<class 'dict'>, {'d': {'r': [1331.295229947139, 4.345810958307686, 13.782918927435052, 1630.3456030299808], 's': [548.4255604896028, 0.008752203639632583, 15.036240343153683, 2132.0892743250424]}, 'i': {'r': [1396.3946205666189, 4.366671043436712, 13.75266390516737, 1665.0296568395274], 's': [617.2504811210077, 0.013438445608791483, 15.034649408565368, 2070.636550439246]}, 'id': {'r': [1416.688864029889, 4.340901597925249, 13.770119062075782, 1093.3433053523204], 's': [517.8975229164582, 0.012829914637180195, 15.027834077998786, 1973.7646379689966]}, 'none': {'r': [1348.6993026819237, 4.37411837724701, 13.758866910140846, 2180.1479925459757], 's': [670.1145417151993, 0.012954938183714404, 15.04031035420947, 2229.9552487175683]}})})\n"
     ]
    }
   ],
   "source": [
    "print(identified_params)"
   ]
  }
 ],
 "metadata": {
  "kernelspec": {
   "display_name": "venv",
   "language": "python",
   "name": "python3"
  },
  "language_info": {
   "codemirror_mode": {
    "name": "ipython",
    "version": 3
   },
   "file_extension": ".py",
   "mimetype": "text/x-python",
   "name": "python",
   "nbconvert_exporter": "python",
   "pygments_lexer": "ipython3",
   "version": "3.10.11"
  },
  "orig_nbformat": 4
 },
 "nbformat": 4,
 "nbformat_minor": 2
}
